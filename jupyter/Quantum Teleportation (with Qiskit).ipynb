{
 "cells": [
  {
   "cell_type": "markdown",
   "id": "20cd3f1a",
   "metadata": {},
   "source": [
    "# Quantum Teleportation with Qiskit\n",
    "\n",
    "This Python3 notebook uses the Qiskit quantum computing framework to give an introduction to the concept of quantum teleportation.\n",
    "\n",
    "---\n",
    "\n",
    "## Dependencies\n",
    "\n",
    "The dependencies for this notebook are listed below. You can install them in your Python3 environment with ``pip3 install <package>``:"
   ]
  },
  {
   "cell_type": "code",
   "execution_count": 1,
   "id": "447d923c",
   "metadata": {},
   "outputs": [],
   "source": [
    "import qiskit\n",
    "import numpy\n",
    "import matplotlib"
   ]
  },
  {
   "cell_type": "markdown",
   "id": "e6f85f99",
   "metadata": {},
   "source": [
    "(Expand this cell to see the Latex macros)$\n",
    "\\newcommand{\\vect}[1]{{\\mathbf{\\boldsymbol{{#1}}}}}\n",
    "\\newcommand{\\ket}[1]{{\\mid {#1}\\rangle}}\n",
    "\\newcommand{\\bra}[1]{{\\langle {#1} \\mid}}\n",
    "\\newcommand{\\bv}[1]{\\mathbf{#1}}\n",
    "\\newcommand{\\mat}[1]{\\begin{bmatrix} #1 \\end{bmatrix}}\n",
    "\\newcommand{\\comm}[2]{\\left[ #1, #2 \\right]}\n",
    "\\newcommand{\\anticomm}[2]{\\left\\lbrace #1, #2 \\right\\rbrace}\n",
    "\\newcommand{\\tr}{\\text{tr}}\n",
    "\\newcommand{\\id}{\\mathbf{1}}\n",
    "$\n"
   ]
  },
  {
   "cell_type": "markdown",
   "id": "62fa8944",
   "metadata": {},
   "source": [
    "### Additional Import Statements"
   ]
  },
  {
   "cell_type": "code",
   "execution_count": 2,
   "id": "8e159897",
   "metadata": {},
   "outputs": [],
   "source": [
    "from qiskit import QuantumCircuit, QuantumRegister, ClassicalRegister\n",
    "from qiskit import IBMQ, Aer, transpile, assemble\n",
    "from qiskit.visualization import plot_histogram, plot_bloch_multivector, array_to_latex\n",
    "from qiskit.extensions import Initialize\n",
    "from qiskit.ignis.verification import marginal_counts\n",
    "from qiskit.quantum_info import random_statevector\n",
    "from qiskit.providers.aer import StatevectorSimulator"
   ]
  },
  {
   "cell_type": "markdown",
   "id": "cea76831",
   "metadata": {},
   "source": [
    "## Quantum Teleportation\n"
   ]
  },
  {
   "cell_type": "code",
   "execution_count": 3,
   "id": "d40cea30",
   "metadata": {},
   "outputs": [],
   "source": [
    "def prepare_bell_state(circuit, a, b):\n",
    "    \"\"\"Prepares a Bell state from two qubits\"\"\"\n",
    "    \n",
    "    # apply Hadamard operation to qubit a:\n",
    "    circuit.h(a)\n",
    "    \n",
    "    # apply CNOT operation to qubit b with control qubit a:\n",
    "    circuit.cx(a, b)"
   ]
  },
  {
   "cell_type": "code",
   "execution_count": 4,
   "id": "fbd9ae6a",
   "metadata": {},
   "outputs": [],
   "source": [
    "def prepare_transmitted_qubit(circuit, psi, a):\n",
    "    \"\"\"Prepares a qubit 'psi' for transmission\"\"\"\n",
    "    \n",
    "    # apply a CNOT operation to qubit a with controll qubit psi\n",
    "    circuit.cx(psi,a)\n",
    "    "
   ]
  },
  {
   "cell_type": "code",
   "execution_count": 5,
   "id": "7c5caf93",
   "metadata": {},
   "outputs": [],
   "source": [
    "def measure_and_transmit(circuit, psi, a, c_x=0, c_z=1):\n",
    "    \"\"\" Measures and transmits qubits over a classical channel\"\"\"\n",
    "    \n",
    "    # measure psi in the X basis:\n",
    "    # (Note: this is the same as applying H, then measuring in\n",
    "    #  the Z basis)\n",
    "    circuit.h(psi)\n",
    "    circuit.measure(psi,c_z)\n",
    "    circuit.barrier()\n",
    "    \n",
    "    # measure bell state bit in Z basis:\n",
    "    circuit.measure(a,c_x)"
   ]
  },
  {
   "cell_type": "code",
   "execution_count": 6,
   "id": "07d3981a",
   "metadata": {},
   "outputs": [],
   "source": [
    "def reconstruct_qubit(circuit, b, x_bit, z_bit):\n",
    "    \"\"\" reconstructs the 'teleported' qubit\"\"\"\n",
    "    \n",
    "    # apply observed X and Z transformations to the\n",
    "    # other bell state bit:\n",
    "    circuit.x(b).c_if(x_bit, 1)\n",
    "    circuit.z(b).c_if(z_bit, 1)"
   ]
  },
  {
   "cell_type": "code",
   "execution_count": 7,
   "id": "7d8446c1",
   "metadata": {},
   "outputs": [
    {
     "data": {
      "image/png": "[encoded data removed]",
      "text/plain": [
       "<Figure size 816.786x385.28 with 1 Axes>"
      ]
     },
     "execution_count": 7,
     "metadata": {},
     "output_type": "execute_result"
    }
   ],
   "source": [
    "\n",
    "# initialize registers and circuit:\n",
    "qreg = QuantumRegister(3, name='q')\n",
    "creg_x = ClassicalRegister(1, name='c_x')\n",
    "creg_z = ClassicalRegister(1, name='c_z')\n",
    "creg_out = ClassicalRegister(1, name='o')\n",
    "teleportation_circuit = QuantumCircuit(qreg, creg_x, creg_z, creg_out)\n",
    "\n",
    "# Step 1: Create Bell pair\n",
    "prepare_bell_state(teleportation_circuit, 1, 2)\n",
    "teleportation_circuit.barrier()\n",
    "\n",
    "# Step 2: Prepare the transmitted qubit:\n",
    "prepare_transmitted_qubit(teleportation_circuit, 0, 1)\n",
    "teleportation_circuit.barrier()\n",
    "\n",
    "# Step 3: Measure and send two classical bits:\n",
    "measure_and_transmit(teleportation_circuit, 0, 1)\n",
    "teleportation_circuit.barrier()\n",
    "\n",
    "# Step 4: reconstruct transmitted qubit:\n",
    "reconstruct_qubit(teleportation_circuit, 2, creg_x, creg_z)\n",
    "\n",
    "teleportation_circuit.draw(output='mpl')\n"
   ]
  },
  {
   "cell_type": "markdown",
   "id": "438d477b",
   "metadata": {},
   "source": [
    "## Simulating this Circuit:\n"
   ]
  },
  {
   "cell_type": "code",
   "execution_count": 8,
   "id": "d1b20125",
   "metadata": {},
   "outputs": [],
   "source": [
    "import numpy as np\n",
    "\n",
    "def init_psi_qubit(circuit, psi):\n",
    "    circuit.ry(np.pi/3, 0)"
   ]
  },
  {
   "cell_type": "code",
   "execution_count": 9,
   "id": "f2e9cd98",
   "metadata": {},
   "outputs": [],
   "source": [
    "def build_teleportation_circuit(measure_axis='z'):\n",
    "    \"\"\" Builds a quantum teleportation circuit\"\"\"\n",
    "    \n",
    "    assert(measure_axis in ['x', 'z'])\n",
    "    \n",
    "    # initialize registers and circuit:\n",
    "    qreg = QuantumRegister(3, name='q')\n",
    "    creg_x = ClassicalRegister(1, name='c_x')\n",
    "    creg_z = ClassicalRegister(1, name='c_z')\n",
    "    creg_out = ClassicalRegister(1, name='o')\n",
    "    circuit = QuantumCircuit(qreg, creg_x, creg_z, creg_out)\n",
    "\n",
    "    # Step 0: Initialize psi to something interesting:\n",
    "    init_psi_qubit(circuit, 0)\n",
    "\n",
    "\n",
    "    # Step 1: Create Bell pair\n",
    "    prepare_bell_state(circuit, 1, 2)\n",
    "    circuit.barrier()\n",
    "\n",
    "    # Step 2: Prepare the transmitted qubit:\n",
    "    prepare_transmitted_qubit(circuit, 0, 1)\n",
    "    circuit.barrier()\n",
    "\n",
    "    # Step 3: Measure and send two classical bits:\n",
    "    measure_and_transmit(circuit, 0, 1)\n",
    "    circuit.barrier()\n",
    "\n",
    "    # Step 4: reconstruct transmitted qubit (and measure):\n",
    "    reconstruct_qubit(circuit, 2, creg_x, creg_z)\n",
    "    if measure_axis == 'x':\n",
    "        circuit.h(2)\n",
    "    circuit.measure(2, 2)\n",
    "    \n",
    "    return circuit\n",
    "\n",
    "def build_control_circuit(measure_axis='z'):\n",
    "    \"\"\" Builds a 'control' circuit\"\"\"\n",
    "    \n",
    "    assert(measure_axis in ['x', 'z'])\n",
    "    \n",
    "    qreg = QuantumRegister(1, name='q')\n",
    "    creg_out = ClassicalRegister(1,name='o')\n",
    "    circuit = QuantumCircuit(qreg, creg_out)\n",
    "    \n",
    "    # initialize qubit then immediately measure:\n",
    "    init_psi_qubit(circuit, 0)\n",
    "    if measure_axis == 'x':\n",
    "        circuit.h(0)\n",
    "    circuit.measure(0, 0)\n",
    "    \n",
    "    return circuit\n",
    "    "
   ]
  },
  {
   "cell_type": "code",
   "execution_count": 10,
   "id": "1bd13462",
   "metadata": {},
   "outputs": [
    {
     "name": "stdout",
     "output_type": "stream",
     "text": [
      "Control Circuit (measuring in Z basis):\n"
     ]
    },
    {
     "data": {
      "image/png": "[encoded data removed]",
      "text/plain": [
       "<Figure size 193.726x144.48 with 1 Axes>"
      ]
     },
     "execution_count": 10,
     "metadata": {},
     "output_type": "execute_result"
    }
   ],
   "source": [
    "control_x = build_control_circuit(measure_axis='x')\n",
    "control_z = build_control_circuit(measure_axis='z')\n",
    "\n",
    "teleport_x = build_teleportation_circuit(measure_axis='x')\n",
    "teleport_z = build_teleportation_circuit(measure_axis='z')\n",
    "\n",
    "print('Control Circuit (measuring in Z basis):')\n",
    "control_z.draw(output='mpl')\n"
   ]
  },
  {
   "cell_type": "code",
   "execution_count": 11,
   "id": "ab0e3cc3",
   "metadata": {},
   "outputs": [
    {
     "name": "stdout",
     "output_type": "stream",
     "text": [
      "Teleportation Circuit (measuring in Z basis):\n"
     ]
    },
    {
     "data": {
      "image/png": "[encoded data removed]",
      "text/plain": [
       "<Figure size 876.986x385.28 with 1 Axes>"
      ]
     },
     "execution_count": 11,
     "metadata": {},
     "output_type": "execute_result"
    }
   ],
   "source": [
    "print('Teleportation Circuit (measuring in Z basis):')\n",
    "teleport_z.draw(output='mpl')"
   ]
  },
  {
   "cell_type": "code",
   "execution_count": 12,
   "id": "00cd3f01",
   "metadata": {},
   "outputs": [],
   "source": [
    "def simulate_circuit(circuit, output_bits):\n",
    "    sim = Aer.get_backend('qasm_simulator')\n",
    "    tqc = transpile(circuit, sim)\n",
    "    counts = sim.run(tqc).result().get_counts(circuit)\n",
    "    return marginal_counts(counts, output_bits)\n",
    "    \n",
    "\n",
    "# run the control experiments:\n",
    "control_x_results = simulate_circuit(control_x, [0])\n",
    "control_z_results = simulate_circuit(control_z, [0])\n",
    "\n",
    "# run the teleportation experiments:\n",
    "teleport_x_results = simulate_circuit(teleport_x, [2])\n",
    "teleport_z_results = simulate_circuit(teleport_z, [2])"
   ]
  },
  {
   "cell_type": "code",
   "execution_count": 13,
   "id": "532f2bda",
   "metadata": {},
   "outputs": [],
   "source": [
    "import matplotlib.pyplot as plt\n",
    "\n",
    "def plot_results(results_list, labels, title='Results',\n",
    "                 keys = ['0', '1'],\n",
    "                 bars=[r'$|0\\rangle$',r'$|1\\rangle$']):\n",
    "    plt.figure(figsize=(8,6))\n",
    "    plt.title(title, fontsize=16)\n",
    "    plt.xticks(list(range(len(bars))), bars, fontsize=16)\n",
    "    plt.ylabel('Measurement Probability',fontsize=16)\n",
    "    n = len(keys)\n",
    "    \n",
    "    for i, (result, label) in enumerate(zip(results_list, labels)):\n",
    "        x = np.arange(n,dtype=np.float64)\n",
    "        x += ((i/n) - 0.25) / 1.5\n",
    "        w = (1/n)*0.6\n",
    "        y = np.array([result[k] for k in keys],dtype=np.float64)\n",
    "        y /= np.sum(y)\n",
    "        plt.bar(x,y,w, label=label)\n",
    "    plt.legend()\n",
    "    plt.show()\n"
   ]
  },
  {
   "cell_type": "code",
   "execution_count": 14,
   "id": "b205bf35",
   "metadata": {},
   "outputs": [
    {
     "data": {
      "image/png": "[encoded data removed]",
      "text/plain": [
       "<Figure size 576x432 with 1 Axes>"
      ]
     },
     "metadata": {
      "needs_background": "light"
     },
     "output_type": "display_data"
    }
   ],
   "source": [
    "plot_results([control_z_results, teleport_z_results],\n",
    "             ['Control', 'Teleportation'],\n",
    "             'Z-Basis Measurement Results')"
   ]
  },
  {
   "cell_type": "code",
   "execution_count": 15,
   "id": "66baa8ce",
   "metadata": {},
   "outputs": [
    {
     "data": {
      "image/png": "[encoded data removed]",
      "text/plain": [
       "<Figure size 576x432 with 1 Axes>"
      ]
     },
     "metadata": {
      "needs_background": "light"
     },
     "output_type": "display_data"
    }
   ],
   "source": [
    "plot_results([control_x_results, teleport_x_results],\n",
    "             ['Control', 'Teleportation'],\n",
    "             'X-Basis Measurement Results',\n",
    "              bars=[r'$|+\\rangle$',r'$|-\\rangle$'])"
   ]
  },
  {
   "cell_type": "code",
   "execution_count": null,
   "id": "91baa6f1",
   "metadata": {},
   "outputs": [],
   "source": []
  }
 ],
 "metadata": {
  "kernelspec": {
   "display_name": "Python 3 (ipykernel)",
   "language": "python",
   "name": "python3"
  },
  "language_info": {
   "codemirror_mode": {
    "name": "ipython",
    "version": 3
   },
   "file_extension": ".py",
   "mimetype": "text/x-python",
   "name": "python",
   "nbconvert_exporter": "python",
   "pygments_lexer": "ipython3",
   "version": "3.9.5"
  }
 },
 "nbformat": 4,
 "nbformat_minor": 5
}
