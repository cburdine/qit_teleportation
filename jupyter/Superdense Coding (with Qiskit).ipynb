{
 "cells": [
  {
   "cell_type": "markdown",
   "id": "20cd3f1a",
   "metadata": {},
   "source": [
    "# Superdense Coding with Qiskit\n",
    "\n",
    "This Python3 notebook uses the Qiskit quantum computing framework to give an introduction to the concept of superdense coding.\n",
    "\n",
    "---\n",
    "\n",
    "## Dependencies\n",
    "\n",
    "The dependencies for this notebook are listed below. You can install them in your Python3 environment with ``pip3 install <package>``:"
   ]
  },
  {
   "cell_type": "code",
   "execution_count": 1,
   "id": "447d923c",
   "metadata": {},
   "outputs": [],
   "source": [
    "import qiskit\n",
    "import numpy as np\n",
    "import matplotlib"
   ]
  },
  {
   "cell_type": "markdown",
   "id": "e6f85f99",
   "metadata": {},
   "source": [
    "(Expand this cell to see the Latex macros)$\n",
    "\\newcommand{\\vect}[1]{{\\mathbf{\\boldsymbol{{#1}}}}}\n",
    "\\newcommand{\\ket}[1]{{\\mid {#1}\\rangle}}\n",
    "\\newcommand{\\bra}[1]{{\\langle {#1} \\mid}}\n",
    "\\newcommand{\\bv}[1]{\\mathbf{#1}}\n",
    "\\newcommand{\\mat}[1]{\\begin{bmatrix} #1 \\end{bmatrix}}\n",
    "\\newcommand{\\comm}[2]{\\left[ #1, #2 \\right]}\n",
    "\\newcommand{\\anticomm}[2]{\\left\\lbrace #1, #2 \\right\\rbrace}\n",
    "\\newcommand{\\tr}{\\text{tr}}\n",
    "\\newcommand{\\id}{\\mathbf{1}}\n",
    "$\n"
   ]
  },
  {
   "cell_type": "markdown",
   "id": "62fa8944",
   "metadata": {},
   "source": [
    "### Additional Import Statements"
   ]
  },
  {
   "cell_type": "code",
   "execution_count": 2,
   "id": "8e159897",
   "metadata": {},
   "outputs": [],
   "source": [
    "from qiskit import QuantumCircuit, QuantumRegister, ClassicalRegister\n",
    "from qiskit import IBMQ, Aer, transpile, assemble\n",
    "from qiskit.visualization import plot_histogram, plot_bloch_multivector, array_to_latex\n",
    "from qiskit.extensions import Initialize\n",
    "from qiskit.ignis.verification import marginal_counts\n",
    "from qiskit.quantum_info import random_statevector\n",
    "from qiskit.providers.aer import StatevectorSimulator"
   ]
  },
  {
   "cell_type": "markdown",
   "id": "cea76831",
   "metadata": {},
   "source": [
    "## Superdense coding\n"
   ]
  },
  {
   "cell_type": "code",
   "execution_count": 3,
   "id": "87df0acc",
   "metadata": {},
   "outputs": [],
   "source": [
    "def prepare_bell_state(circuit, a, b):\n",
    "    \"\"\"Prepares a Bell state from two qubits\"\"\"\n",
    "    \n",
    "    # apply Hadamard operation to qubit a:\n",
    "    circuit.h(a)\n",
    "    \n",
    "    # apply CNOT operation to qubit b with control qubit a:\n",
    "    circuit.cx(a, b)\n",
    "    "
   ]
  },
  {
   "cell_type": "code",
   "execution_count": 37,
   "id": "c775e843",
   "metadata": {},
   "outputs": [],
   "source": [
    "def encode_bits(circuit, q, b0, b1):\n",
    "    \"\"\" encodes two bits into the X and Z axis of a qubit q\"\"\"\n",
    "    if b0:\n",
    "        circuit.x(q)\n",
    "    if b1:\n",
    "        circuit.z(q)"
   ]
  },
  {
   "cell_type": "code",
   "execution_count": 50,
   "id": "28318e22",
   "metadata": {},
   "outputs": [],
   "source": [
    "def decode_bits(circuit, q_a, q_b):\n",
    "    \"\"\" decodes the transmitted qubit a (with b)\"\"\"\n",
    "    circuit.cx(q_a, q_b)\n",
    "    circuit.h(q_a)"
   ]
  },
  {
   "cell_type": "code",
   "execution_count": 51,
   "id": "91baa6f1",
   "metadata": {},
   "outputs": [],
   "source": [
    "def superdense_coder(bitstring):\n",
    "    \"\"\" Constructs a superdense coder circuit for a bitstring\"\"\"\n",
    "    \n",
    "    # initialize bit array (must have even # of bits)\n",
    "    assert(len(bitstring) % 2 == 0)\n",
    "    bitstring = [int(i,2) for i in bitstring ]\n",
    "    N = len(bitstring)//2\n",
    "    bit_arr = np.array(bitstring).reshape(N,2)\n",
    "    \n",
    "    # construct quantum circuit:\n",
    "    qreg_a = QuantumRegister(N,'qa')\n",
    "    qreg_b = QuantumRegister(N,'qb')\n",
    "    circuit = QuantumCircuit(qreg_a, qreg_b)\n",
    "    \n",
    "    # initialize bell states on alice and bob's qubits:\n",
    "    for q_a, q_b in zip(range(0,N),range(N,2*N)):\n",
    "        prepare_bell_state(circuit, q_a, q_b)\n",
    "    circuit.barrier()\n",
    "    \n",
    "    # apply alice's transformations to encode cbits:\n",
    "    for q_a, bit_pair in enumerate(bit_arr):\n",
    "        encode_bits(circuit, q_a, bit_pair[0], bit_pair[1])\n",
    "    circuit.barrier()\n",
    "    \n",
    "    for q_a, q_b in zip(range(0,N),range(N,2*N)):\n",
    "        decode_bits(circuit, q_a, q_b)\n",
    "    circuit.measure_all()\n",
    "    \n",
    "    \n",
    "    return circuit"
   ]
  },
  {
   "cell_type": "code",
   "execution_count": 52,
   "id": "8900c0dd",
   "metadata": {},
   "outputs": [
    {
     "data": {
      "image/png": "[encoded data removed]",
      "text/plain": [
       "<Figure size 1260.68x445.48 with 1 Axes>"
      ]
     },
     "execution_count": 52,
     "metadata": {},
     "output_type": "execute_result"
    }
   ],
   "source": [
    "circuit = superdense_coder(\"001101\")\n",
    "circuit.draw(output='mpl')"
   ]
  },
  {
   "cell_type": "markdown",
   "id": "1c810fc1",
   "metadata": {},
   "source": [
    "## Simulating the Circuit"
   ]
  },
  {
   "cell_type": "code",
   "execution_count": 53,
   "id": "854ab547",
   "metadata": {},
   "outputs": [],
   "source": [
    "def canonical_bitstring(bs):\n",
    "    \"\"\" converts the measurement result bitstring into\n",
    "        a canonical bitstring\n",
    "    \"\"\"\n",
    "    N = len(bs)//2\n",
    "    bs2 = []\n",
    "    for i in range(N):\n",
    "        bs2.append(bs[i+N])\n",
    "        bs2.append(bs[i])\n",
    "    return ''.join(bs2)\n",
    "\n",
    "def simulate_circuit(circuit, n_samples=1000):\n",
    "    \"\"\" simulates a quantum circuit, returning measured bitstrings \"\"\"\n",
    "    \n",
    "    sim = Aer.get_backend('qasm_simulator')\n",
    "    tqc = transpile(circuit, sim)\n",
    "    counts = sim.run(tqc,n_samples).result().get_counts(circuit)\n",
    "    return { \n",
    "        canonical_bitstring(bs[::-1]) : count\n",
    "        for bs, count in counts.items()\n",
    "    }\n"
   ]
  },
  {
   "cell_type": "code",
   "execution_count": 54,
   "id": "08185481",
   "metadata": {},
   "outputs": [
    {
     "name": "stdout",
     "output_type": "stream",
     "text": [
      "Measurement Results:\n",
      "---------------------\n",
      "\"001101\": observed 1024 times\n"
     ]
    }
   ],
   "source": [
    "results = simulate_circuit(circuit)\n",
    "print('Measurement Results:')\n",
    "print('---------------------')\n",
    "for k, v in results.items():\n",
    "    print(f'\\\"{k}\\\": observed {v} times')"
   ]
  },
  {
   "cell_type": "code",
   "execution_count": null,
   "id": "6b02d8a7",
   "metadata": {},
   "outputs": [],
   "source": []
  }
 ],
 "metadata": {
  "kernelspec": {
   "display_name": "Python 3 (ipykernel)",
   "language": "python",
   "name": "python3"
  },
  "language_info": {
   "codemirror_mode": {
    "name": "ipython",
    "version": 3
   },
   "file_extension": ".py",
   "mimetype": "text/x-python",
   "name": "python",
   "nbconvert_exporter": "python",
   "pygments_lexer": "ipython3",
   "version": "3.9.5"
  }
 },
 "nbformat": 4,
 "nbformat_minor": 5
}
